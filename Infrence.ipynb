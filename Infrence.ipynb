{
 "cells": [
  {
   "cell_type": "code",
   "execution_count": 5,
   "metadata": {},
   "outputs": [
    {
     "data": {
      "text/html": [
       "Finishing last run (ID:vx9q9mws) before initializing another..."
      ],
      "text/plain": [
       "<IPython.core.display.HTML object>"
      ]
     },
     "metadata": {},
     "output_type": "display_data"
    },
    {
     "data": {
      "text/html": [
       " View run <strong style=\"color:#cdcd00\">Inference_Run</strong> at: <a href='https://wandb.ai/madhav-kataria/Anime_Face_GAN_Inference/runs/vx9q9mws' target=\"_blank\">https://wandb.ai/madhav-kataria/Anime_Face_GAN_Inference/runs/vx9q9mws</a><br/> View project at: <a href='https://wandb.ai/madhav-kataria/Anime_Face_GAN_Inference' target=\"_blank\">https://wandb.ai/madhav-kataria/Anime_Face_GAN_Inference</a><br/>Synced 6 W&B file(s), 41 media file(s), 0 artifact file(s) and 0 other file(s)"
      ],
      "text/plain": [
       "<IPython.core.display.HTML object>"
      ]
     },
     "metadata": {},
     "output_type": "display_data"
    },
    {
     "data": {
      "text/html": [
       "Find logs at: <code>./wandb/run-20240817_235911-vx9q9mws/logs</code>"
      ],
      "text/plain": [
       "<IPython.core.display.HTML object>"
      ]
     },
     "metadata": {},
     "output_type": "display_data"
    },
    {
     "data": {
      "text/html": [
       "The new W&B backend becomes opt-out in version 0.18.0; try it out with `wandb.require(\"core\")`! See https://wandb.me/wandb-core for more information."
      ],
      "text/plain": [
       "<IPython.core.display.HTML object>"
      ]
     },
     "metadata": {},
     "output_type": "display_data"
    },
    {
     "data": {
      "text/html": [
       "Successfully finished last run (ID:vx9q9mws). Initializing new run:<br/>"
      ],
      "text/plain": [
       "<IPython.core.display.HTML object>"
      ]
     },
     "metadata": {},
     "output_type": "display_data"
    },
    {
     "data": {
      "text/html": [
       "wandb version 0.17.7 is available!  To upgrade, please run:\n",
       " $ pip install wandb --upgrade"
      ],
      "text/plain": [
       "<IPython.core.display.HTML object>"
      ]
     },
     "metadata": {},
     "output_type": "display_data"
    },
    {
     "data": {
      "text/html": [
       "Tracking run with wandb version 0.17.5"
      ],
      "text/plain": [
       "<IPython.core.display.HTML object>"
      ]
     },
     "metadata": {},
     "output_type": "display_data"
    },
    {
     "data": {
      "text/html": [
       "Run data is saved locally in <code>/home/raid/Desktop/Madhav/Conditional_GAN/wandb/run-20240818_000040-3vv99il9</code>"
      ],
      "text/plain": [
       "<IPython.core.display.HTML object>"
      ]
     },
     "metadata": {},
     "output_type": "display_data"
    },
    {
     "data": {
      "text/html": [
       "Syncing run <strong><a href='https://wandb.ai/madhav-kataria/Anime_Face_GAN_Inference/runs/3vv99il9' target=\"_blank\">Inference_Run</a></strong> to <a href='https://wandb.ai/madhav-kataria/Anime_Face_GAN_Inference' target=\"_blank\">Weights & Biases</a> (<a href='https://wandb.me/run' target=\"_blank\">docs</a>)<br/>"
      ],
      "text/plain": [
       "<IPython.core.display.HTML object>"
      ]
     },
     "metadata": {},
     "output_type": "display_data"
    },
    {
     "data": {
      "text/html": [
       " View project at <a href='https://wandb.ai/madhav-kataria/Anime_Face_GAN_Inference' target=\"_blank\">https://wandb.ai/madhav-kataria/Anime_Face_GAN_Inference</a>"
      ],
      "text/plain": [
       "<IPython.core.display.HTML object>"
      ]
     },
     "metadata": {},
     "output_type": "display_data"
    },
    {
     "data": {
      "text/html": [
       " View run at <a href='https://wandb.ai/madhav-kataria/Anime_Face_GAN_Inference/runs/3vv99il9' target=\"_blank\">https://wandb.ai/madhav-kataria/Anime_Face_GAN_Inference/runs/3vv99il9</a>"
      ],
      "text/plain": [
       "<IPython.core.display.HTML object>"
      ]
     },
     "metadata": {},
     "output_type": "display_data"
    },
    {
     "name": "stdout",
     "output_type": "stream",
     "text": [
      "64 anime faces have been generated and saved as 'inferimages/generated_anime_faces.png'\n",
      "Individual images have been saved and logged to W&B\n"
     ]
    },
    {
     "data": {
      "text/html": [
       " View run <strong style=\"color:#cdcd00\">Inference_Run</strong> at: <a href='https://wandb.ai/madhav-kataria/Anime_Face_GAN_Inference/runs/3vv99il9' target=\"_blank\">https://wandb.ai/madhav-kataria/Anime_Face_GAN_Inference/runs/3vv99il9</a><br/> View project at: <a href='https://wandb.ai/madhav-kataria/Anime_Face_GAN_Inference' target=\"_blank\">https://wandb.ai/madhav-kataria/Anime_Face_GAN_Inference</a><br/>Synced 6 W&B file(s), 65 media file(s), 0 artifact file(s) and 0 other file(s)"
      ],
      "text/plain": [
       "<IPython.core.display.HTML object>"
      ]
     },
     "metadata": {},
     "output_type": "display_data"
    },
    {
     "data": {
      "text/html": [
       "Find logs at: <code>./wandb/run-20240818_000040-3vv99il9/logs</code>"
      ],
      "text/plain": [
       "<IPython.core.display.HTML object>"
      ]
     },
     "metadata": {},
     "output_type": "display_data"
    },
    {
     "data": {
      "text/html": [
       "The new W&B backend becomes opt-out in version 0.18.0; try it out with `wandb.require(\"core\")`! See https://wandb.me/wandb-core for more information."
      ],
      "text/plain": [
       "<IPython.core.display.HTML object>"
      ]
     },
     "metadata": {},
     "output_type": "display_data"
    }
   ],
   "source": [
    "import torch\n",
    "import torchvision.utils as vutils\n",
    "import matplotlib.pyplot as plt\n",
    "from torch import nn\n",
    "import numpy as np\n",
    "import wandb\n",
    "import os  # Import os for directory operations\n",
    "\n",
    "device = torch.device(\"cuda\" if torch.cuda.is_available() else \"cpu\")\n",
    "\n",
    "class Generator(nn.Module):\n",
    "    def __init__(self):\n",
    "        super(Generator, self).__init__()\n",
    "        self.model = nn.Sequential(\n",
    "            nn.ConvTranspose2d(100, 512, 4, 1, 0, bias=False),\n",
    "            nn.BatchNorm2d(512),\n",
    "            nn.ReLU(True),\n",
    "            nn.ConvTranspose2d(512, 256, 4, 2, 1, bias=False),\n",
    "            nn.BatchNorm2d(256),\n",
    "            nn.ReLU(True),\n",
    "            nn.ConvTranspose2d(256, 128, 4, 2, 1, bias=False),\n",
    "            nn.BatchNorm2d(128),\n",
    "            nn.ReLU(True),\n",
    "            nn.ConvTranspose2d(128, 64, 4, 2, 1, bias=False),\n",
    "            nn.BatchNorm2d(64),\n",
    "            nn.ReLU(True),\n",
    "            nn.ConvTranspose2d(64, 3, 4, 2, 1, bias=False),\n",
    "            nn.Tanh()\n",
    "        )\n",
    "\n",
    "    def forward(self, input):\n",
    "        return self.model(input)\n",
    "\n",
    "class Discriminator(nn.Module):\n",
    "    def __init__(self):\n",
    "        super(Discriminator, self).__init__()\n",
    "        self.model = nn.Sequential(\n",
    "            nn.Conv2d(3, 64, 4, 2, 1, bias=False),\n",
    "            nn.LeakyReLU(0.2, inplace=True),\n",
    "            nn.Conv2d(64, 128, 4, 2, 1, bias=False),\n",
    "            nn.BatchNorm2d(128),\n",
    "            nn.LeakyReLU(0.2, inplace=True),\n",
    "            nn.Conv2d(128, 256, 4, 2, 1, bias=False),\n",
    "            nn.BatchNorm2d(256),\n",
    "            nn.LeakyReLU(0.2, inplace=True),\n",
    "            nn.Conv2d(256, 512, 4, 2, 1, bias=False),\n",
    "            nn.BatchNorm2d(512),\n",
    "            nn.LeakyReLU(0.2, inplace=True),\n",
    "            nn.Conv2d(512, 1, 4, 1, 0, bias=False),\n",
    "            nn.Sigmoid()\n",
    "        )\n",
    "\n",
    "    def forward(self, input):\n",
    "        return self.model(input).view(-1, 1)\n",
    "\n",
    "# Load the trained generator\n",
    "generator = Generator().to(device)\n",
    "generator.load_state_dict(torch.load('generator_final.pth', map_location=device))\n",
    "generator.eval()\n",
    "\n",
    "# Load the trained discriminator (optional, for completeness)\n",
    "discriminator = Discriminator().to(device)\n",
    "discriminator.load_state_dict(torch.load('discriminator_final.pth', map_location=device))\n",
    "discriminator.eval()\n",
    "\n",
    "# Function to generate images\n",
    "def generate_images(num_images=64):\n",
    "    with torch.no_grad():\n",
    "        noise = torch.randn(num_images, 100, 1, 1, device=device)\n",
    "        generated_images = generator(noise)\n",
    "    return generated_images\n",
    "\n",
    "# Initialize W&B\n",
    "wandb.init(project=\"Anime_Face_GAN_Inference\", name=\"Inference_Run\")\n",
    "\n",
    "# Create a directory for saving images if it doesn't exist\n",
    "os.makedirs('inferimages', exist_ok=True)\n",
    "\n",
    "# Generate and display images\n",
    "num_images = 64\n",
    "generated_images = generate_images(num_images)\n",
    "\n",
    "# Convert images for display\n",
    "grid = vutils.make_grid(generated_images, padding=2, normalize=True)\n",
    "grid = grid.cpu()  # Move the tensor to CPU before converting to numpy\n",
    "plt.figure(figsize=(15,15))\n",
    "plt.axis(\"off\")\n",
    "plt.imshow(np.transpose(grid.numpy(), (1, 2, 0)))  # Convert tensor to numpy array\n",
    "plt.savefig(\"inferimages/generated_anime_faces.png\", dpi=300, bbox_inches='tight')\n",
    "plt.close()\n",
    "\n",
    "# Log the generated images to W&B\n",
    "wandb.log({\"Generated Anime Faces\": wandb.Image(\"inferimages/generated_anime_faces.png\")})\n",
    "\n",
    "print(f\"{num_images} anime faces have been generated and saved as 'inferimages/generated_anime_faces.png'\")\n",
    "\n",
    "# Optional: Save individual images and log to W&B\n",
    "for i, img in enumerate(generated_images):\n",
    "    img_filename = f\"inferimages/generated_anime_face_{i+1}.png\"\n",
    "    vutils.save_image(img, img_filename, normalize=True)\n",
    "    wandb.log({f\"Generated Face {i+1}\": wandb.Image(img_filename)})\n",
    "\n",
    "print(f\"Individual images have been saved and logged to W&B\")\n",
    "\n",
    "# Finish the W&B run\n",
    "wandb.finish()"
   ]
  }
 ],
 "metadata": {
  "kernelspec": {
   "display_name": "dl",
   "language": "python",
   "name": "python3"
  },
  "language_info": {
   "codemirror_mode": {
    "name": "ipython",
    "version": 3
   },
   "file_extension": ".py",
   "mimetype": "text/x-python",
   "name": "python",
   "nbconvert_exporter": "python",
   "pygments_lexer": "ipython3",
   "version": "3.12.2"
  }
 },
 "nbformat": 4,
 "nbformat_minor": 2
}
